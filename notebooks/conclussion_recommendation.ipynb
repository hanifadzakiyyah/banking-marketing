{
 "cells": [
  {
   "cell_type": "markdown",
   "metadata": {},
   "source": [
    "# Recommendation"
   ]
  },
  {
   "cell_type": "markdown",
   "metadata": {},
   "source": [
    "Insights obtained from the model related to the classification of potential customers are:\n",
    "* Customers who have credits are less likely to open a deposit account, especially customers who have housing credit\n",
    "* Customers who have never known any campaigns from bank and are contacted by the bank for the first time are less likely to open a deposit account\n",
    "* Customers who have been contacted before tend to be interested in opening a deposit account\n",
    "* Customers who have bank balances tend to be interested in opening a deposit account\n",
    "* Customers tend to be interested in the campaign when the call duration is more than 5 minutes"
   ]
  },
  {
   "cell_type": "markdown",
   "metadata": {},
   "source": [
    "Thus, bank can do: <br>\n",
    "* Focus on prioritizing existing customers who have been contacted regarding previous campaigns, especially customers who have subscribed to one of the products in one of the campaign\n",
    "* Focus on prioritizing customers who have a balance in the bank <br><br>\n",
    "After that,  bank can make a strategy in how to approach customers who have credit/debt to the bank, be it loans, housing, or defaults"
   ]
  },
  {
   "cell_type": "markdown",
   "metadata": {},
   "source": [
    "Recommendations for customer interaction to approach are:\n",
    "* Maximize contacting customers 3 times during the campaign period\n",
    "* Follow up at least 1 time every month\n",
    "* Create a pitch script with a maximum duration of 2 minutes for initial filtering whether customers are interested in the products or not"
   ]
  },
  {
   "cell_type": "markdown",
   "metadata": {},
   "source": [
    "# Model Potential Impact"
   ]
  },
  {
   "cell_type": "markdown",
   "metadata": {},
   "source": [
    "* Based on confusion matrix, model can predict correctly (accuracy) 16420 data out of 17964 data test (91%). 4946 Accepted, 11474 Declined.\n",
    "* Cost of telemarketing in europe is 0,01 per seconds\n",
    "* Based on recommendation, we used script pitch when approaching customers max 2 minutes\n",
    "* Maximum cvr happened when duration of call between 4 to 8 minutes\n",
    "* Mean of duration of call is 5 minutes"
   ]
  },
  {
   "cell_type": "code",
   "execution_count": 1,
   "metadata": {},
   "outputs": [],
   "source": [
    "cost_per_sec = 0.01\n",
    "max_cvr_duration = 8\n",
    "mean_duration = 5\n",
    "script_pitch = 2\n",
    "total_cust = 17964\n",
    "tp = 4946\n",
    "tn = 11474"
   ]
  },
  {
   "cell_type": "code",
   "execution_count": 3,
   "metadata": {},
   "outputs": [
    {
     "name": "stdout",
     "output_type": "stream",
     "text": [
      "Cost before using model and implementing interaction recommendation is 898.2 Euro\n"
     ]
    }
   ],
   "source": [
    "# before using model and implementing interaction recommendation\n",
    "total_min = total_cust*mean_duration #all customer used mean duration\n",
    "cost_before = total_min*cost_per_sec\n",
    "print(\"Cost before using model and implementing interaction recommendation is\", cost_before, \"Euro\")"
   ]
  },
  {
   "cell_type": "code",
   "execution_count": 4,
   "metadata": {},
   "outputs": [
    {
     "name": "stdout",
     "output_type": "stream",
     "text": [
      "Cost after using model and implementing interaction recommendation is 625.16 Euro\n"
     ]
    }
   ],
   "source": [
    "# after using model and implementing interaction recommendation\n",
    "total_cust_no = tn*script_pitch\n",
    "total_cust_yes = tp*max_cvr_duration #customer yes used max cvr duration\n",
    "total_min = total_cust_no+total_cust_yes #customer no used script pitch duration\n",
    "cost_after = total_min*cost_per_sec\n",
    "print(\"Cost after using model and implementing interaction recommendation is\", cost_after, \"Euro\")"
   ]
  },
  {
   "cell_type": "code",
   "execution_count": 6,
   "metadata": {},
   "outputs": [
    {
     "name": "stdout",
     "output_type": "stream",
     "text": [
      "Cost saving in  30.39857492763305 %\n"
     ]
    }
   ],
   "source": [
    "print(\"Cost saving in \", ((cost_before-cost_after)/cost_before)*100, \"%\")"
   ]
  }
 ],
 "metadata": {
  "interpreter": {
   "hash": "a46798ea1befe5d3d194ca2d5091003ad94859e0c5c828aac5bdfda75db007ac"
  },
  "kernelspec": {
   "display_name": "Python 3.8.8 64-bit ('base': conda)",
   "language": "python",
   "name": "python3"
  },
  "language_info": {
   "codemirror_mode": {
    "name": "ipython",
    "version": 3
   },
   "file_extension": ".py",
   "mimetype": "text/x-python",
   "name": "python",
   "nbconvert_exporter": "python",
   "pygments_lexer": "ipython3",
   "version": "3.8.8"
  },
  "orig_nbformat": 4
 },
 "nbformat": 4,
 "nbformat_minor": 2
}
