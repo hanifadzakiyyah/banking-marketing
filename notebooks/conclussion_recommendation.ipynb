{
 "cells": [
  {
   "cell_type": "markdown",
   "metadata": {},
   "source": [
    "# Recommendation"
   ]
  },
  {
   "cell_type": "markdown",
   "metadata": {},
   "source": [
    "Insights obtained from the model related to the classification of potential customers are:\n",
    "* Customers who have credits are less likely to open a deposit account, especially customers who have housing credit\n",
    "* Customers who have never known any campaigns from bank and are contacted by the bank for the first time are less likely to open a deposit account\n",
    "* Customers who have been contacted before tend to be interested in opening a deposit account\n",
    "* Customers who have bank balances tend to be interested in opening a deposit account\n",
    "* Customers tend to be interested in the campaign when the call duration is more than 5 minutes"
   ]
  },
  {
   "cell_type": "markdown",
   "metadata": {},
   "source": [
    "Thus, bank can do: <br>\n",
    "* Focus on prioritizing existing customers who have been contacted regarding previous campaigns, especially customers who have subscribed to one of the products in one of the campaign\n",
    "* Focus on prioritizing customers who have a balance in the bank <br><br>\n",
    "After that,  bank can make a strategy in how to approach customers who have credit/debt to the bank, be it loans, housing, or defaults"
   ]
  },
  {
   "cell_type": "markdown",
   "metadata": {},
   "source": [
    "Recommendations for customer interaction to approach are:\n",
    "* Maximize contacting customers 3 times during the campaign period\n",
    "* Follow up at least 1 time every month\n",
    "* Create a pitch script with a maximum duration of 2 minutes for initial filtering whether customers are interested in the products or not"
   ]
  },
  {
   "cell_type": "markdown",
   "metadata": {},
   "source": [
    "# Model Potential Impact"
   ]
  },
  {
   "cell_type": "code",
   "execution_count": 1,
   "metadata": {},
   "outputs": [],
   "source": [
    "import warnings\n",
    "warnings.filterwarnings('ignore')\n",
    "\n",
    "import numpy as np\n",
    "import pandas as pd\n",
    "from scipy.stats import uniform\n",
    "import matplotlib.pyplot as plt\n",
    "import seaborn as sns\n",
    "from matplotlib import rcParams\n",
    "rcParams['figure.figsize'] = 12, 4\n",
    "rcParams['lines.linewidth'] = 3\n",
    "rcParams['xtick.labelsize'] = 'x-large'\n",
    "rcParams['ytick.labelsize'] = 'x-large'"
   ]
  },
  {
   "cell_type": "markdown",
   "metadata": {},
   "source": [
    "* Based on confusion matrix, model can predict correctly (accuracy) 16420 data out of 17964 data test (91%). 4946 Accepted, 11474 Declined.\n",
    "* Cost of telemarketing in europe is 0,01 per seconds\n",
    "* Based on recommendation, we used script pitch when approaching customers max 2 minutes"
   ]
  },
  {
   "cell_type": "code",
   "execution_count": 2,
   "metadata": {},
   "outputs": [
    {
     "data": {
      "text/html": [
       "<div>\n",
       "<style scoped>\n",
       "    .dataframe tbody tr th:only-of-type {\n",
       "        vertical-align: middle;\n",
       "    }\n",
       "\n",
       "    .dataframe tbody tr th {\n",
       "        vertical-align: top;\n",
       "    }\n",
       "\n",
       "    .dataframe thead th {\n",
       "        text-align: right;\n",
       "    }\n",
       "</style>\n",
       "<table border=\"1\" class=\"dataframe\">\n",
       "  <thead>\n",
       "    <tr style=\"text-align: right;\">\n",
       "      <th></th>\n",
       "      <th>age</th>\n",
       "      <th>default</th>\n",
       "      <th>balance</th>\n",
       "      <th>housing</th>\n",
       "      <th>loan</th>\n",
       "      <th>duration</th>\n",
       "      <th>campaign</th>\n",
       "      <th>previous</th>\n",
       "      <th>contact_group</th>\n",
       "      <th>job_group_employee</th>\n",
       "      <th>...</th>\n",
       "      <th>marital_married</th>\n",
       "      <th>marital_single</th>\n",
       "      <th>education_primary</th>\n",
       "      <th>education_secondary</th>\n",
       "      <th>education_tertiary</th>\n",
       "      <th>poutcome_failure</th>\n",
       "      <th>poutcome_other</th>\n",
       "      <th>poutcome_success</th>\n",
       "      <th>poutcome_unknown</th>\n",
       "      <th>y</th>\n",
       "    </tr>\n",
       "  </thead>\n",
       "  <tbody>\n",
       "    <tr>\n",
       "      <th>0</th>\n",
       "      <td>32</td>\n",
       "      <td>0</td>\n",
       "      <td>502</td>\n",
       "      <td>1</td>\n",
       "      <td>0</td>\n",
       "      <td>7.366667</td>\n",
       "      <td>4</td>\n",
       "      <td>0</td>\n",
       "      <td>1</td>\n",
       "      <td>1</td>\n",
       "      <td>...</td>\n",
       "      <td>0</td>\n",
       "      <td>1</td>\n",
       "      <td>0</td>\n",
       "      <td>0</td>\n",
       "      <td>1</td>\n",
       "      <td>0</td>\n",
       "      <td>0</td>\n",
       "      <td>0</td>\n",
       "      <td>1</td>\n",
       "      <td>0</td>\n",
       "    </tr>\n",
       "    <tr>\n",
       "      <th>1</th>\n",
       "      <td>26</td>\n",
       "      <td>0</td>\n",
       "      <td>352</td>\n",
       "      <td>0</td>\n",
       "      <td>0</td>\n",
       "      <td>3.366667</td>\n",
       "      <td>2</td>\n",
       "      <td>0</td>\n",
       "      <td>1</td>\n",
       "      <td>0</td>\n",
       "      <td>...</td>\n",
       "      <td>0</td>\n",
       "      <td>1</td>\n",
       "      <td>0</td>\n",
       "      <td>1</td>\n",
       "      <td>0</td>\n",
       "      <td>0</td>\n",
       "      <td>0</td>\n",
       "      <td>0</td>\n",
       "      <td>1</td>\n",
       "      <td>0</td>\n",
       "    </tr>\n",
       "  </tbody>\n",
       "</table>\n",
       "<p>2 rows × 26 columns</p>\n",
       "</div>"
      ],
      "text/plain": [
       "   age  default  balance  housing  loan  duration  campaign  previous  \\\n",
       "0   32        0      502        1     0  7.366667         4         0   \n",
       "1   26        0      352        0     0  3.366667         2         0   \n",
       "\n",
       "   contact_group  job_group_employee  ...  marital_married  marital_single  \\\n",
       "0              1                   1  ...                0               1   \n",
       "1              1                   0  ...                0               1   \n",
       "\n",
       "   education_primary  education_secondary  education_tertiary  \\\n",
       "0                  0                    0                   1   \n",
       "1                  0                    1                   0   \n",
       "\n",
       "   poutcome_failure  poutcome_other  poutcome_success  poutcome_unknown  y  \n",
       "0                 0               0                 0                 1  0  \n",
       "1                 0               0                 0                 1  0  \n",
       "\n",
       "[2 rows x 26 columns]"
      ]
     },
     "execution_count": 2,
     "metadata": {},
     "output_type": "execute_result"
    }
   ],
   "source": [
    "## Data test used for validation\n",
    "df = pd.read_csv('../data/data_test.csv',sep=',')\n",
    "df.head(2)"
   ]
  },
  {
   "cell_type": "code",
   "execution_count": 3,
   "metadata": {},
   "outputs": [
    {
     "name": "stdout",
     "output_type": "stream",
     "text": [
      "Total customer :  17964.0\n",
      "Average duration in minutes to call :  5.398031086955811\n"
     ]
    }
   ],
   "source": [
    "total_cust=df.describe()['duration']['count']\n",
    "mean_duration=df.describe()['duration']['mean']\n",
    "\n",
    "print(\"Total customer : \", total_cust)\n",
    "print(\"Average duration in minutes to call : \", mean_duration)"
   ]
  },
  {
   "cell_type": "code",
   "execution_count": 4,
   "metadata": {},
   "outputs": [
    {
     "name": "stdout",
     "output_type": "stream",
     "text": [
      "Average duration in minutes if customer subscribe to campaign :  8.807926856310177\n"
     ]
    }
   ],
   "source": [
    "## Data test in which customer subscribe to campaign\n",
    "df_y = df.loc[df['y']==1]\n",
    "mean_duration_yes=df_y.describe()['duration']['mean']\n",
    "\n",
    "print(\"Average duration in minutes if customer subscribe to campaign : \", mean_duration_yes)"
   ]
  },
  {
   "cell_type": "code",
   "execution_count": 5,
   "metadata": {},
   "outputs": [],
   "source": [
    "cost_per_sec = 0.01\n",
    "script_pitch = 2\n",
    "tp = 4946\n",
    "tn = 11474"
   ]
  },
  {
   "cell_type": "code",
   "execution_count": 6,
   "metadata": {},
   "outputs": [
    {
     "name": "stdout",
     "output_type": "stream",
     "text": [
      "Cost before using model and implementing interaction recommendation is 969.7023044607419 Euro\n"
     ]
    }
   ],
   "source": [
    "# before using model and implementing interaction recommendation\n",
    "total_min = total_cust*mean_duration #all customer used mean duration\n",
    "cost_before = total_min*cost_per_sec\n",
    "print(\"Cost before using model and implementing interaction recommendation is\", cost_before, \"Euro\")"
   ]
  },
  {
   "cell_type": "code",
   "execution_count": 7,
   "metadata": {},
   "outputs": [
    {
     "name": "stdout",
     "output_type": "stream",
     "text": [
      "Cost after using model and implementing interaction recommendation is 665.1200623131014 Euro\n"
     ]
    }
   ],
   "source": [
    "# after using model and implementing interaction recommendation\n",
    "total_cust_no = tn*script_pitch #customer no used script pitch duration\n",
    "total_cust_yes = tp*mean_duration_yes #customer yes used max cvr duration\n",
    "total_min = total_cust_no+total_cust_yes\n",
    "cost_after = total_min*cost_per_sec\n",
    "print(\"Cost after using model and implementing interaction recommendation is\", cost_after, \"Euro\")"
   ]
  },
  {
   "cell_type": "code",
   "execution_count": 8,
   "metadata": {},
   "outputs": [
    {
     "name": "stdout",
     "output_type": "stream",
     "text": [
      "Cost saving in  31.4098709208514 %\n"
     ]
    }
   ],
   "source": [
    "print(\"Cost saving in \", ((cost_before-cost_after)/cost_before)*100, \"%\")"
   ]
  }
 ],
 "metadata": {
  "interpreter": {
   "hash": "a46798ea1befe5d3d194ca2d5091003ad94859e0c5c828aac5bdfda75db007ac"
  },
  "kernelspec": {
   "display_name": "Python 3.8.8 64-bit ('base': conda)",
   "language": "python",
   "name": "python3"
  },
  "language_info": {
   "codemirror_mode": {
    "name": "ipython",
    "version": 3
   },
   "file_extension": ".py",
   "mimetype": "text/x-python",
   "name": "python",
   "nbconvert_exporter": "python",
   "pygments_lexer": "ipython3",
   "version": "3.8.8"
  },
  "orig_nbformat": 4
 },
 "nbformat": 4,
 "nbformat_minor": 2
}
