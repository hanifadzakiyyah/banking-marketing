{
 "cells": [
  {
   "cell_type": "markdown",
   "metadata": {},
   "source": [
    "# Recommendation"
   ]
  },
  {
   "cell_type": "markdown",
   "metadata": {},
   "source": [
    "Insights obtained from the model related to the classification of potential customers are:\n",
    "* Customers who have credits are less likely to open a deposit account, especially customers who have housing credit\n",
    "* Customers who have never known any campaigns from bank and are contacted by the bank for the first time are less likely to open a deposit account\n",
    "* Customers who have been contacted before tend to be interested in opening a deposit account\n",
    "* Customers who have bank balances tend to be interested in opening a deposit account\n",
    "* Customers tend to be interested in the campaign when the call duration is more than 5 minutes"
   ]
  },
  {
   "cell_type": "markdown",
   "metadata": {},
   "source": [
    "Thus, bank can do: <br>\n",
    "* Focus on prioritizing existing customers who have been contacted regarding previous campaigns, especially customers who have subscribed to one of the products in one of the campaign\n",
    "* Focus on prioritizing customers who have a balance in the bank <br><br>\n",
    "After that,  bank can make a strategy in how to approach customers who have credit/debt to the bank, be it loans, housing, or defaults"
   ]
  },
  {
   "cell_type": "markdown",
   "metadata": {},
   "source": [
    "Recommendations for customer interaction to approach are:\n",
    "* Maximize contacting customers 3 times during the campaign period\n",
    "* Follow up at least 1 time every month\n",
    "* Create a pitch script with a maximum duration of 2 minutes for initial filtering whether customers are interested in the products or not"
   ]
  },
  {
   "cell_type": "markdown",
   "metadata": {},
   "source": [
    "# Model Potential Impact"
   ]
  },
  {
   "cell_type": "code",
   "execution_count": 1,
   "metadata": {},
   "outputs": [],
   "source": [
    "import warnings\n",
    "warnings.filterwarnings('ignore')\n",
    "\n",
    "import numpy as np\n",
    "import pandas as pd\n",
    "from scipy.stats import uniform"
   ]
  },
  {
   "cell_type": "markdown",
   "metadata": {},
   "source": [
    "* Based on confusion matrix, model can predict correctly (accuracy) 16420 data out of 17964 data test (91%). 4946 Accepted, 11474 Declined.\n",
    "* Cost of telemarketing in europe is 0,01 per seconds\n",
    "* Based on recommendation, we used script pitch when approaching customers max 2 minutes"
   ]
  },
  {
   "cell_type": "code",
   "execution_count": 2,
   "metadata": {},
   "outputs": [
    {
     "data": {
      "text/html": [
       "<div>\n",
       "<style scoped>\n",
       "    .dataframe tbody tr th:only-of-type {\n",
       "        vertical-align: middle;\n",
       "    }\n",
       "\n",
       "    .dataframe tbody tr th {\n",
       "        vertical-align: top;\n",
       "    }\n",
       "\n",
       "    .dataframe thead th {\n",
       "        text-align: right;\n",
       "    }\n",
       "</style>\n",
       "<table border=\"1\" class=\"dataframe\">\n",
       "  <thead>\n",
       "    <tr style=\"text-align: right;\">\n",
       "      <th></th>\n",
       "      <th>age</th>\n",
       "      <th>default</th>\n",
       "      <th>balance</th>\n",
       "      <th>housing</th>\n",
       "      <th>loan</th>\n",
       "      <th>duration</th>\n",
       "      <th>campaign</th>\n",
       "      <th>previous</th>\n",
       "      <th>contact_group</th>\n",
       "      <th>job_group_employee</th>\n",
       "      <th>...</th>\n",
       "      <th>marital_single</th>\n",
       "      <th>education_primary</th>\n",
       "      <th>education_secondary</th>\n",
       "      <th>education_tertiary</th>\n",
       "      <th>poutcome_failure</th>\n",
       "      <th>poutcome_other</th>\n",
       "      <th>poutcome_success</th>\n",
       "      <th>poutcome_unknown</th>\n",
       "      <th>y</th>\n",
       "      <th>y_pred</th>\n",
       "    </tr>\n",
       "  </thead>\n",
       "  <tbody>\n",
       "    <tr>\n",
       "      <th>0</th>\n",
       "      <td>32</td>\n",
       "      <td>0</td>\n",
       "      <td>502</td>\n",
       "      <td>1</td>\n",
       "      <td>0</td>\n",
       "      <td>7.366667</td>\n",
       "      <td>4</td>\n",
       "      <td>0</td>\n",
       "      <td>1</td>\n",
       "      <td>1</td>\n",
       "      <td>...</td>\n",
       "      <td>1</td>\n",
       "      <td>0</td>\n",
       "      <td>0</td>\n",
       "      <td>1</td>\n",
       "      <td>0</td>\n",
       "      <td>0</td>\n",
       "      <td>0</td>\n",
       "      <td>1</td>\n",
       "      <td>0</td>\n",
       "      <td>0</td>\n",
       "    </tr>\n",
       "    <tr>\n",
       "      <th>1</th>\n",
       "      <td>26</td>\n",
       "      <td>0</td>\n",
       "      <td>352</td>\n",
       "      <td>0</td>\n",
       "      <td>0</td>\n",
       "      <td>3.366667</td>\n",
       "      <td>2</td>\n",
       "      <td>0</td>\n",
       "      <td>1</td>\n",
       "      <td>0</td>\n",
       "      <td>...</td>\n",
       "      <td>1</td>\n",
       "      <td>0</td>\n",
       "      <td>1</td>\n",
       "      <td>0</td>\n",
       "      <td>0</td>\n",
       "      <td>0</td>\n",
       "      <td>0</td>\n",
       "      <td>1</td>\n",
       "      <td>0</td>\n",
       "      <td>0</td>\n",
       "    </tr>\n",
       "  </tbody>\n",
       "</table>\n",
       "<p>2 rows × 27 columns</p>\n",
       "</div>"
      ],
      "text/plain": [
       "   age  default  balance  housing  loan  duration  campaign  previous  \\\n",
       "0   32        0      502        1     0  7.366667         4         0   \n",
       "1   26        0      352        0     0  3.366667         2         0   \n",
       "\n",
       "   contact_group  job_group_employee  ...  marital_single  education_primary  \\\n",
       "0              1                   1  ...               1                  0   \n",
       "1              1                   0  ...               1                  0   \n",
       "\n",
       "   education_secondary  education_tertiary  poutcome_failure  poutcome_other  \\\n",
       "0                    0                   1                 0               0   \n",
       "1                    1                   0                 0               0   \n",
       "\n",
       "   poutcome_success  poutcome_unknown  y  y_pred  \n",
       "0                 0                 1  0       0  \n",
       "1                 0                 1  0       0  \n",
       "\n",
       "[2 rows x 27 columns]"
      ]
     },
     "execution_count": 2,
     "metadata": {},
     "output_type": "execute_result"
    }
   ],
   "source": [
    "## Data test used for validation\n",
    "df = pd.read_csv('../data/data_test.csv',sep=',')\n",
    "df.head(2)"
   ]
  },
  {
   "cell_type": "code",
   "execution_count": 3,
   "metadata": {},
   "outputs": [],
   "source": [
    "cost_per_min = 0.01*60\n",
    "script_pitch = 2"
   ]
  },
  {
   "cell_type": "code",
   "execution_count": 4,
   "metadata": {},
   "outputs": [
    {
     "name": "stdout",
     "output_type": "stream",
     "text": [
      "Cost before implementing model and interaction recommendation  57817.45521740816  Euro\n"
     ]
    }
   ],
   "source": [
    "df['cost'] = df['duration']*cost_per_min\n",
    "cost_before = df['cost'].sum()\n",
    "print(\"Cost before implementing model and interaction recommendation \", cost_before, \" Euro\")"
   ]
  },
  {
   "cell_type": "code",
   "execution_count": 5,
   "metadata": {},
   "outputs": [],
   "source": [
    "def pred(x):\n",
    "    if x['y'] == x['y_pred']:\n",
    "        if x['y_pred'] == 0:\n",
    "            cost=2*cost_per_min\n",
    "        else:\n",
    "            cost=x['duration']*cost_per_min\n",
    "    else:\n",
    "        cost=x['duration']*cost_per_min\n",
    "    return cost\n",
    "\n",
    "df['cost_after']=df.apply(lambda x: pred(x),axis=1)"
   ]
  },
  {
   "cell_type": "code",
   "execution_count": 6,
   "metadata": {},
   "outputs": [
    {
     "name": "stdout",
     "output_type": "stream",
     "text": [
      "Cost before implementing model and interaction recommendation  48350.005217408165  Euro\n"
     ]
    }
   ],
   "source": [
    "cost_after = df['cost_after'].sum()\n",
    "print(\"Cost before implementing model and interaction recommendation \", cost_after, \" Euro\")"
   ]
  },
  {
   "cell_type": "code",
   "execution_count": 7,
   "metadata": {},
   "outputs": [
    {
     "name": "stdout",
     "output_type": "stream",
     "text": [
      "Cost saving in  16.37472622134614 %\n"
     ]
    }
   ],
   "source": [
    "print(\"Cost saving in \", ((cost_before-cost_after)/cost_before)*100, \"%\")"
   ]
  }
 ],
 "metadata": {
  "interpreter": {
   "hash": "a46798ea1befe5d3d194ca2d5091003ad94859e0c5c828aac5bdfda75db007ac"
  },
  "kernelspec": {
   "display_name": "Python 3.8.8 64-bit ('base': conda)",
   "language": "python",
   "name": "python3"
  },
  "language_info": {
   "codemirror_mode": {
    "name": "ipython",
    "version": 3
   },
   "file_extension": ".py",
   "mimetype": "text/x-python",
   "name": "python",
   "nbconvert_exporter": "python",
   "pygments_lexer": "ipython3",
   "version": "3.8.8"
  },
  "orig_nbformat": 4
 },
 "nbformat": 4,
 "nbformat_minor": 2
}
