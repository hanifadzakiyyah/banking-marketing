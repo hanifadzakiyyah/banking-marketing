{
 "cells": [
  {
   "cell_type": "code",
   "execution_count": 1,
   "metadata": {},
   "outputs": [],
   "source": [
    "import warnings\n",
    "warnings.filterwarnings('ignore')\n",
    "\n",
    "import numpy as np\n",
    "import pandas as pd\n",
    "from scipy.stats import uniform\n",
    "import matplotlib.pyplot as plt\n",
    "import seaborn as sns\n",
    "from matplotlib import rcParams\n",
    "rcParams['figure.figsize'] = 12, 4\n",
    "rcParams['lines.linewidth'] = 3\n",
    "rcParams['xtick.labelsize'] = 'x-large'\n",
    "rcParams['ytick.labelsize'] = 'x-large'\n",
    "\n",
    "\n",
    "from sklearn.metrics import accuracy_score, precision_score, recall_score, f1_score, roc_auc_score\n",
    "from sklearn.metrics import confusion_matrix\n",
    "from sklearn.metrics import classification_report\n",
    "from sklearn.model_selection import train_test_split\n",
    "from imblearn import under_sampling, over_sampling\n",
    "from sklearn.linear_model import LogisticRegression\n",
    "from sklearn.neighbors import KNeighborsClassifier\n",
    "from sklearn.ensemble import AdaBoostClassifier\n",
    "from sklearn.tree import DecisionTreeClassifier\n",
    "from sklearn import tree\n",
    "from sklearn.ensemble import RandomForestClassifier\n",
    "from sklearn.model_selection import RandomizedSearchCV, GridSearchCV\n",
    "from sklearn.base import BaseEstimator, RegressorMixin\n",
    "from xgboost import XGBClassifier\n",
    "import statsmodels.api as sm\n",
    "import shap"
   ]
  },
  {
   "cell_type": "markdown",
   "metadata": {},
   "source": [
    "## Load Data"
   ]
  },
  {
   "cell_type": "code",
   "execution_count": 2,
   "metadata": {},
   "outputs": [
    {
     "data": {
      "text/html": [
       "<div>\n",
       "<style scoped>\n",
       "    .dataframe tbody tr th:only-of-type {\n",
       "        vertical-align: middle;\n",
       "    }\n",
       "\n",
       "    .dataframe tbody tr th {\n",
       "        vertical-align: top;\n",
       "    }\n",
       "\n",
       "    .dataframe thead th {\n",
       "        text-align: right;\n",
       "    }\n",
       "</style>\n",
       "<table border=\"1\" class=\"dataframe\">\n",
       "  <thead>\n",
       "    <tr style=\"text-align: right;\">\n",
       "      <th></th>\n",
       "      <th>age</th>\n",
       "      <th>default</th>\n",
       "      <th>balance</th>\n",
       "      <th>housing</th>\n",
       "      <th>loan</th>\n",
       "      <th>duration</th>\n",
       "      <th>campaign</th>\n",
       "      <th>previous</th>\n",
       "      <th>y</th>\n",
       "      <th>contact_group</th>\n",
       "      <th>...</th>\n",
       "      <th>marital_divorced</th>\n",
       "      <th>marital_married</th>\n",
       "      <th>marital_single</th>\n",
       "      <th>education_primary</th>\n",
       "      <th>education_secondary</th>\n",
       "      <th>education_tertiary</th>\n",
       "      <th>poutcome_failure</th>\n",
       "      <th>poutcome_other</th>\n",
       "      <th>poutcome_success</th>\n",
       "      <th>poutcome_unknown</th>\n",
       "    </tr>\n",
       "  </thead>\n",
       "  <tbody>\n",
       "    <tr>\n",
       "      <th>0</th>\n",
       "      <td>58</td>\n",
       "      <td>0</td>\n",
       "      <td>2143</td>\n",
       "      <td>1</td>\n",
       "      <td>0</td>\n",
       "      <td>4.350000</td>\n",
       "      <td>1</td>\n",
       "      <td>0</td>\n",
       "      <td>0</td>\n",
       "      <td>0</td>\n",
       "      <td>...</td>\n",
       "      <td>0</td>\n",
       "      <td>1</td>\n",
       "      <td>0</td>\n",
       "      <td>0</td>\n",
       "      <td>0</td>\n",
       "      <td>1</td>\n",
       "      <td>0</td>\n",
       "      <td>0</td>\n",
       "      <td>0</td>\n",
       "      <td>1</td>\n",
       "    </tr>\n",
       "    <tr>\n",
       "      <th>1</th>\n",
       "      <td>44</td>\n",
       "      <td>0</td>\n",
       "      <td>29</td>\n",
       "      <td>1</td>\n",
       "      <td>0</td>\n",
       "      <td>2.516667</td>\n",
       "      <td>1</td>\n",
       "      <td>0</td>\n",
       "      <td>0</td>\n",
       "      <td>0</td>\n",
       "      <td>...</td>\n",
       "      <td>0</td>\n",
       "      <td>0</td>\n",
       "      <td>1</td>\n",
       "      <td>0</td>\n",
       "      <td>1</td>\n",
       "      <td>0</td>\n",
       "      <td>0</td>\n",
       "      <td>0</td>\n",
       "      <td>0</td>\n",
       "      <td>1</td>\n",
       "    </tr>\n",
       "  </tbody>\n",
       "</table>\n",
       "<p>2 rows × 26 columns</p>\n",
       "</div>"
      ],
      "text/plain": [
       "   age  default  balance  housing  loan  duration  campaign  previous  y  \\\n",
       "0   58        0     2143        1     0  4.350000         1         0  0   \n",
       "1   44        0       29        1     0  2.516667         1         0  0   \n",
       "\n",
       "   contact_group  ...  marital_divorced  marital_married  marital_single  \\\n",
       "0              0  ...                 0                1               0   \n",
       "1              0  ...                 0                0               1   \n",
       "\n",
       "   education_primary  education_secondary  education_tertiary  \\\n",
       "0                  0                    0                   1   \n",
       "1                  0                    1                   0   \n",
       "\n",
       "   poutcome_failure  poutcome_other  poutcome_success  poutcome_unknown  \n",
       "0                 0               0                 0                 1  \n",
       "1                 0               0                 0                 1  \n",
       "\n",
       "[2 rows x 26 columns]"
      ]
     },
     "execution_count": 2,
     "metadata": {},
     "output_type": "execute_result"
    }
   ],
   "source": [
    "df = pd.read_csv('../data/data_modeling.csv',sep=',')\n",
    "df.head(2)"
   ]
  },
  {
   "cell_type": "code",
   "execution_count": 3,
   "metadata": {},
   "outputs": [
    {
     "name": "stdout",
     "output_type": "stream",
     "text": [
      "Shape of X is (45206, 25) and that of y is (45206,)\n"
     ]
    }
   ],
   "source": [
    "y = df['y'].values\n",
    "X = df.drop(labels = ['y'], axis = 1)\n",
    "print(\"Shape of X is {} and that of y is {}\".format(X.shape, y.shape))"
   ]
  },
  {
   "cell_type": "markdown",
   "metadata": {},
   "source": [
    "## Class Imbalance (SMOTE)"
   ]
  },
  {
   "cell_type": "code",
   "execution_count": 4,
   "metadata": {},
   "outputs": [
    {
     "name": "stdout",
     "output_type": "stream",
     "text": [
      "Shape of X is (59878, 25) and that of y is (59878,)\n"
     ]
    }
   ],
   "source": [
    "X_sm, y_sm = over_sampling.SMOTE(0.5).fit_resample(X, y)\n",
    "print(\"Shape of X is {} and that of y is {}\".format(X_sm.shape, y_sm.shape))"
   ]
  },
  {
   "cell_type": "markdown",
   "metadata": {},
   "source": [
    "## Split Train-Test"
   ]
  },
  {
   "cell_type": "code",
   "execution_count": 5,
   "metadata": {},
   "outputs": [],
   "source": [
    "X_train, X_test, y_train, y_test = train_test_split(X_sm, y_sm, test_size = 0.3, random_state = 42)"
   ]
  },
  {
   "cell_type": "markdown",
   "metadata": {},
   "source": [
    "Add constraint for Logistic Regression using statsmodel"
   ]
  },
  {
   "cell_type": "code",
   "execution_count": 6,
   "metadata": {},
   "outputs": [],
   "source": [
    "X_train_stat = sm.add_constant(X_train)\n",
    "X_test_stat = sm.add_constant(X_test)"
   ]
  },
  {
   "cell_type": "markdown",
   "metadata": {},
   "source": [
    "## Modeling"
   ]
  },
  {
   "cell_type": "code",
   "execution_count": 7,
   "metadata": {},
   "outputs": [],
   "source": [
    "def eval_classification(model, xtrain, ytrain, xtest, ytest):\n",
    "    ypred = model.predict(xtest)\n",
    "    ypred = (ypred > 0.5).astype(int)\n",
    "    y_train = model.predict(xtrain)\n",
    "    y_train = (y_train > 0.5).astype(int)\n",
    "    \n",
    "    return accuracy_score(ytest, ypred), precision_score(ytest, ypred), recall_score(ytest, ypred), roc_auc_score(ytest, ypred), f1_score(ytest, ypred), f1_score(ytrain, y_train)\n",
    "\n",
    "def show_best_hyperparameter(model, hyperparameters):\n",
    "    for key, value in hyperparameters.items() :\n",
    "        print('Best '+key+':', model.get_params()[key])"
   ]
  },
  {
   "cell_type": "markdown",
   "metadata": {},
   "source": [
    "### Model Selection"
   ]
  },
  {
   "cell_type": "code",
   "execution_count": 8,
   "metadata": {},
   "outputs": [],
   "source": [
    "models = {\n",
    "    \"KNN\" : KNeighborsClassifier(),\n",
    "    \"AdaBoost\" :AdaBoostClassifier(random_state=42),\n",
    "    \"XGBoost\" : XGBClassifier(random_state=42),\n",
    "    \"Decision Tree\": DecisionTreeClassifier(random_state=42),\n",
    "    \"Random Forest\" : RandomForestClassifier(random_state=42),\n",
    "    \"Logistic Regression Statsmodel\" : sm.Logit(y_train,X_train_stat),\n",
    "    \"Logistic Regression\" : LogisticRegression(random_state=42)\n",
    "    }"
   ]
  },
  {
   "cell_type": "code",
   "execution_count": 9,
   "metadata": {},
   "outputs": [
    {
     "name": "stdout",
     "output_type": "stream",
     "text": [
      "Model KNN score:\n",
      "Accuracy (Test Set): 0.85\n",
      "Precision (Test Set): 0.75\n",
      "Recall (Test Set): 0.85\n",
      "AUC (Test Set) : 0.85\n",
      "F1-Score (Test Set): 0.80\n",
      "F1-Score (Train Set): 0.86\n",
      "\n",
      "Model AdaBoost score:\n",
      "Accuracy (Test Set): 0.90\n",
      "Precision (Test Set): 0.88\n",
      "Recall (Test Set): 0.82\n",
      "AUC (Test Set) : 0.88\n",
      "F1-Score (Test Set): 0.85\n",
      "F1-Score (Train Set): 0.85\n",
      "\n",
      "Model XGBoost score:\n",
      "[04:23:13] WARNING: ..\\src\\learner.cc:1061: Starting in XGBoost 1.3.0, the default evaluation metric used with the objective 'binary:logistic' was changed from 'error' to 'logloss'. Explicitly set eval_metric if you'd like to restore the old behavior.\n",
      "Accuracy (Test Set): 0.91\n",
      "Precision (Test Set): 0.90\n",
      "Recall (Test Set): 0.83\n",
      "AUC (Test Set) : 0.89\n",
      "F1-Score (Test Set): 0.86\n",
      "F1-Score (Train Set): 0.92\n",
      "\n",
      "Model Decision Tree score:\n",
      "Accuracy (Test Set): 0.88\n",
      "Precision (Test Set): 0.81\n",
      "Recall (Test Set): 0.83\n",
      "AUC (Test Set) : 0.86\n",
      "F1-Score (Test Set): 0.82\n",
      "F1-Score (Train Set): 1.00\n",
      "\n",
      "Model Random Forest score:\n",
      "Accuracy (Test Set): 0.91\n",
      "Precision (Test Set): 0.89\n",
      "Recall (Test Set): 0.84\n",
      "AUC (Test Set) : 0.90\n",
      "F1-Score (Test Set): 0.87\n",
      "F1-Score (Train Set): 1.00\n",
      "\n",
      "Model Logistic Regression Statsmodel score:\n",
      "Optimization terminated successfully    (Exit mode 0)\n",
      "            Current function value: 0.20616217904025033\n",
      "            Iterations: 178\n",
      "            Function evaluations: 189\n",
      "            Gradient evaluations: 178\n",
      "Accuracy (Test Set): 0.91\n",
      "Precision (Test Set): 0.93\n",
      "Recall (Test Set): 0.79\n",
      "AUC (Test Set) : 0.88\n",
      "F1-Score (Test Set): 0.85\n",
      "F1-Score (Train Set): 0.87\n",
      "\n",
      "Model Logistic Regression score:\n",
      "Accuracy (Test Set): 0.85\n",
      "Precision (Test Set): 0.83\n",
      "Recall (Test Set): 0.68\n",
      "AUC (Test Set) : 0.81\n",
      "F1-Score (Test Set): 0.75\n",
      "F1-Score (Train Set): 0.75\n",
      "\n"
     ]
    }
   ],
   "source": [
    "scores = []\n",
    "for model in models:\n",
    "  print(\"Model \"+model + \" score:\")\n",
    "  classifier = models[model]\n",
    "  if model!=\"Logistic Regression Statsmodel\" :\n",
    "    classifier.fit(X_train, y_train)\n",
    "    score = eval_classification(classifier,X_train,y_train,X_test,y_test)\n",
    "  else:\n",
    "    result = classifier.fit_regularized(random_state = 42)\n",
    "    score = eval_classification(result, X_train_stat, y_train, X_test_stat, y_test)\n",
    "\n",
    "  scores.append([model,score[0],score[1], score[2], score[3], score[4], score[5]])\n",
    "\n",
    "  print(\"Accuracy (Test Set): %.2f\" % score[0])\n",
    "  print(\"Precision (Test Set): %.2f\" % score[1])\n",
    "  print(\"Recall (Test Set): %.2f\" % score[2])\n",
    "  print(\"AUC (Test Set) : %.2f\" % score[3])\n",
    "  print(\"F1-Score (Test Set): %.2f\" % score[4])\n",
    "  print(\"F1-Score (Train Set): %.2f\" % score[5])\n",
    "  print()"
   ]
  },
  {
   "cell_type": "markdown",
   "metadata": {},
   "source": [
    "Evaluation metric used in this model is F1, because the dataset has an imbalance target and we want to focuses on predicted positive label correctly. Recall is also used as a supporting metric because in this case we are trying to reduce the number of false negatives."
   ]
  },
  {
   "cell_type": "code",
   "execution_count": 10,
   "metadata": {},
   "outputs": [
    {
     "data": {
      "text/html": [
       "<div>\n",
       "<style scoped>\n",
       "    .dataframe tbody tr th:only-of-type {\n",
       "        vertical-align: middle;\n",
       "    }\n",
       "\n",
       "    .dataframe tbody tr th {\n",
       "        vertical-align: top;\n",
       "    }\n",
       "\n",
       "    .dataframe thead th {\n",
       "        text-align: right;\n",
       "    }\n",
       "</style>\n",
       "<table border=\"1\" class=\"dataframe\">\n",
       "  <thead>\n",
       "    <tr style=\"text-align: right;\">\n",
       "      <th></th>\n",
       "      <th>Model</th>\n",
       "      <th>Accuracy</th>\n",
       "      <th>Precision</th>\n",
       "      <th>Recall</th>\n",
       "      <th>AUC</th>\n",
       "      <th>F1(test)</th>\n",
       "      <th>F1(train)</th>\n",
       "    </tr>\n",
       "  </thead>\n",
       "  <tbody>\n",
       "    <tr>\n",
       "      <th>0</th>\n",
       "      <td>Random Forest</td>\n",
       "      <td>0.913939</td>\n",
       "      <td>0.894774</td>\n",
       "      <td>0.839946</td>\n",
       "      <td>0.895371</td>\n",
       "      <td>0.866494</td>\n",
       "      <td>1.000000</td>\n",
       "    </tr>\n",
       "    <tr>\n",
       "      <th>1</th>\n",
       "      <td>XGBoost</td>\n",
       "      <td>0.912993</td>\n",
       "      <td>0.900909</td>\n",
       "      <td>0.829566</td>\n",
       "      <td>0.892058</td>\n",
       "      <td>0.863767</td>\n",
       "      <td>0.920885</td>\n",
       "    </tr>\n",
       "    <tr>\n",
       "      <th>2</th>\n",
       "      <td>Logistic Regression Statsmodel</td>\n",
       "      <td>0.909374</td>\n",
       "      <td>0.925230</td>\n",
       "      <td>0.791395</td>\n",
       "      <td>0.879769</td>\n",
       "      <td>0.853095</td>\n",
       "      <td>0.865423</td>\n",
       "    </tr>\n",
       "    <tr>\n",
       "      <th>3</th>\n",
       "      <td>AdaBoost</td>\n",
       "      <td>0.903808</td>\n",
       "      <td>0.884581</td>\n",
       "      <td>0.817345</td>\n",
       "      <td>0.882111</td>\n",
       "      <td>0.849635</td>\n",
       "      <td>0.853358</td>\n",
       "    </tr>\n",
       "    <tr>\n",
       "      <th>4</th>\n",
       "      <td>Decision Tree</td>\n",
       "      <td>0.875863</td>\n",
       "      <td>0.805152</td>\n",
       "      <td>0.826720</td>\n",
       "      <td>0.863531</td>\n",
       "      <td>0.815794</td>\n",
       "      <td>1.000000</td>\n",
       "    </tr>\n",
       "    <tr>\n",
       "      <th>5</th>\n",
       "      <td>KNN</td>\n",
       "      <td>0.854988</td>\n",
       "      <td>0.747211</td>\n",
       "      <td>0.852168</td>\n",
       "      <td>0.854280</td>\n",
       "      <td>0.796246</td>\n",
       "      <td>0.861886</td>\n",
       "    </tr>\n",
       "    <tr>\n",
       "      <th>6</th>\n",
       "      <td>Logistic Regression</td>\n",
       "      <td>0.848809</td>\n",
       "      <td>0.833641</td>\n",
       "      <td>0.681232</td>\n",
       "      <td>0.806757</td>\n",
       "      <td>0.749770</td>\n",
       "      <td>0.753939</td>\n",
       "    </tr>\n",
       "  </tbody>\n",
       "</table>\n",
       "</div>"
      ],
      "text/plain": [
       "                            Model  Accuracy  Precision    Recall       AUC  \\\n",
       "0                   Random Forest  0.913939   0.894774  0.839946  0.895371   \n",
       "1                         XGBoost  0.912993   0.900909  0.829566  0.892058   \n",
       "2  Logistic Regression Statsmodel  0.909374   0.925230  0.791395  0.879769   \n",
       "3                        AdaBoost  0.903808   0.884581  0.817345  0.882111   \n",
       "4                   Decision Tree  0.875863   0.805152  0.826720  0.863531   \n",
       "5                             KNN  0.854988   0.747211  0.852168  0.854280   \n",
       "6             Logistic Regression  0.848809   0.833641  0.681232  0.806757   \n",
       "\n",
       "   F1(test)  F1(train)  \n",
       "0  0.866494   1.000000  \n",
       "1  0.863767   0.920885  \n",
       "2  0.853095   0.865423  \n",
       "3  0.849635   0.853358  \n",
       "4  0.815794   1.000000  \n",
       "5  0.796246   0.861886  \n",
       "6  0.749770   0.753939  "
      ]
     },
     "execution_count": 10,
     "metadata": {},
     "output_type": "execute_result"
    }
   ],
   "source": [
    "eval = pd.DataFrame(scores)\n",
    "eval = eval.rename({0:'Model', 1: 'Accuracy', 2: 'Precision', 3: 'Recall', 4: 'AUC', 5: 'F1(test)', 6: 'F1(train)'}, axis = 1)\n",
    "eval.sort_values(['F1(test)','Recall','F1(train)'], ascending=False).reset_index().drop('index', axis = 1)"
   ]
  },
  {
   "cell_type": "markdown",
   "metadata": {},
   "source": [
    "Based on metrics evaluation, Random Forest has the highest F1 and Recall score, thus, we take Random Forest to be used in our model. But, Random Forest has an indication of overfitting based on the test score and the train score, so we have to tuned the hyperparameter of it to make the model more robust."
   ]
  },
  {
   "cell_type": "markdown",
   "metadata": {},
   "source": [
    "### Hyperparameter Tuning"
   ]
  },
  {
   "cell_type": "code",
   "execution_count": 11,
   "metadata": {},
   "outputs": [
    {
     "name": "stdout",
     "output_type": "stream",
     "text": [
      "Accuracy (Test Set):  0.9140503228679582\n",
      "Precision (Test Set):  0.90536335346879\n",
      "Recall (Test Set):  0.8280596015402645\n",
      "AUC (Test Set) :  0.8924719657271832\n",
      "F1-Score (Test Set):  0.8649877579573277\n",
      "F1-Score (Train Set):  0.9173861268234593\n"
     ]
    }
   ],
   "source": [
    "hyperparameters = dict(\n",
    "                       n_estimators = [int(x) for x in np.linspace(start = 100, stop = 1800, num = 23)],\n",
    "                       bootstrap = [True],\n",
    "                       criterion = ['gini','entropy'],\n",
    "                       max_depth = [int(x) for x in np.linspace(1, 110, num = 25)], \n",
    "                       min_samples_split = [5, 10, 15, 20, 25],\n",
    "                       min_samples_leaf = [1, 3, 5, 7, 9],\n",
    "                       max_features = ['auto', 'sqrt', 'log2'], \n",
    "                       n_jobs = [-1],\n",
    "                      )\n",
    "\n",
    "rf = RandomForestClassifier(random_state=42)\n",
    "rf_tuned = RandomizedSearchCV(rf, hyperparameters, cv=7, random_state=42)\n",
    "rf_tuned.fit(X_train,y_train)\n",
    "\n",
    "score = eval_classification(rf_tuned,X_train,y_train,X_test,y_test)\n",
    "print(\"Accuracy (Test Set): \", score[0])\n",
    "print(\"Precision (Test Set): \", score[1])\n",
    "print(\"Recall (Test Set): \", score[2])\n",
    "print(\"AUC (Test Set) : \", score[3])\n",
    "print(\"F1-Score (Test Set): \", score[4])\n",
    "print(\"F1-Score (Train Set): \", score[5])"
   ]
  },
  {
   "cell_type": "code",
   "execution_count": 12,
   "metadata": {},
   "outputs": [
    {
     "name": "stdout",
     "output_type": "stream",
     "text": [
      "Best n_estimators: 100\n",
      "Best bootstrap: True\n",
      "Best criterion: entropy\n",
      "Best max_depth: 100\n",
      "Best min_samples_split: 15\n",
      "Best min_samples_leaf: 3\n",
      "Best max_features: log2\n",
      "Best n_jobs: -1\n"
     ]
    }
   ],
   "source": [
    "show_best_hyperparameter(rf_tuned.best_estimator_, hyperparameters)"
   ]
  },
  {
   "cell_type": "markdown",
   "metadata": {},
   "source": [
    "After getting the best hyperparameter, the model is retrained using those hyperparameters and we can evaluate the prediction of data test from new model."
   ]
  },
  {
   "cell_type": "code",
   "execution_count": 13,
   "metadata": {},
   "outputs": [
    {
     "data": {
      "text/plain": [
       "RandomForestClassifier(criterion='entropy', max_depth=100, max_features='log2',\n",
       "                       min_samples_leaf=3, min_samples_split=15, n_jobs=-1,\n",
       "                       random_state=42)"
      ]
     },
     "execution_count": 13,
     "metadata": {},
     "output_type": "execute_result"
    }
   ],
   "source": [
    "rf_new = RandomForestClassifier(n_estimators=100, bootstrap=True, criterion='entropy', max_depth=100, min_samples_split=15, min_samples_leaf=3, random_state=42, max_features='log2', n_jobs=-1)\n",
    "rf_new.fit(X_train, y_train)"
   ]
  },
  {
   "cell_type": "code",
   "execution_count": 14,
   "metadata": {},
   "outputs": [
    {
     "name": "stdout",
     "output_type": "stream",
     "text": [
      "Accuracy (Test Set):  0.9140503228679582\n",
      "Precision (Test Set):  0.90536335346879\n",
      "Recall (Test Set):  0.8280596015402645\n",
      "AUC (Test Set) :  0.8924719657271832\n",
      "F1-Score (Test Set):  0.8649877579573277\n",
      "F1-Score (Train Set):  0.9173861268234593\n"
     ]
    }
   ],
   "source": [
    "score = eval_classification(rf_new,X_train,y_train,X_test,y_test)\n",
    "print(\"Accuracy (Test Set): \", score[0])\n",
    "print(\"Precision (Test Set): \", score[1])\n",
    "print(\"Recall (Test Set): \", score[2])\n",
    "print(\"AUC (Test Set) : \", score[3])\n",
    "print(\"F1-Score (Test Set): \", score[4])\n",
    "print(\"F1-Score (Train Set): \", score[5])"
   ]
  },
  {
   "cell_type": "code",
   "execution_count": 18,
   "metadata": {},
   "outputs": [
    {
     "name": "stdout",
     "output_type": "stream",
     "text": [
      "              precision    recall  f1-score   support\n",
      "\n",
      "           0       0.92      0.96      0.94     11991\n",
      "           1       0.91      0.83      0.86      5973\n",
      "\n",
      "    accuracy                           0.91     17964\n",
      "   macro avg       0.91      0.89      0.90     17964\n",
      "weighted avg       0.91      0.91      0.91     17964\n",
      "\n"
     ]
    }
   ],
   "source": [
    "print(classification_report(y_test, rf_new.predict(X_test)))"
   ]
  },
  {
   "cell_type": "markdown",
   "metadata": {},
   "source": [
    "# Insight from Model"
   ]
  },
  {
   "cell_type": "markdown",
   "metadata": {},
   "source": [
    "Insight can be found from the model that has been built which later will be the basis for determining business recommendations and answering the objectives of this project."
   ]
  },
  {
   "cell_type": "code",
   "execution_count": 24,
   "metadata": {},
   "outputs": [
    {
     "name": "stdout",
     "output_type": "stream",
     "text": [
      "[[11474   517]\n",
      " [ 1027  4946]]\n"
     ]
    }
   ],
   "source": [
    "print(confusion_matrix(y_test, rf_new.predict(X_test)))"
   ]
  },
  {
   "cell_type": "markdown",
   "metadata": {},
   "source": [
    "Model can predict correctly 16420 data out of 17964 from data test."
   ]
  },
  {
   "cell_type": "markdown",
   "metadata": {},
   "source": [
    "With SHAP value, model can be explained by how the importance and the impact of each feature to predict the target."
   ]
  },
  {
   "cell_type": "code",
   "execution_count": 15,
   "metadata": {},
   "outputs": [],
   "source": [
    "explainer = shap.TreeExplainer(rf_new)\n",
    "shap_values = explainer.shap_values(X_train)"
   ]
  },
  {
   "cell_type": "code",
   "execution_count": 16,
   "metadata": {},
   "outputs": [
    {
     "data": {
      "image/png": "[encoded data removed]",
      "text/plain": [
       "<Figure size 576x684 with 2 Axes>"
      ]
     },
     "metadata": {
      "needs_background": "light"
     },
     "output_type": "display_data"
    }
   ],
   "source": [
    "shap.summary_plot(shap_values[1], X_train)"
   ]
  },
  {
   "cell_type": "markdown",
   "metadata": {},
   "source": [
    "In this plot, feature is ordered by the importance to the model. The x-values (impact on model) show whether the effect of that value is associated with a higher or lower prediction. Color shows whether that variable is high (in red) or low (in blue) for that observation.<br><br>\n",
    "`duration` is the most important feature in this model, followed by `poutcome_unknown`, `housing`, `education_secondary`, and `marital_married` in the top five. It shows that these top 5 features have a high value to determine customers who tend to reject the campaign, except `duration`. But there are 2 more feature that have a high value of positive outcome which can be considered to sharpen the classification of customers towards positive values. Those features are, `contact_group`  and `balance`. The details of the features can be shown in dependence plot."
   ]
  },
  {
   "cell_type": "code",
   "execution_count": 21,
   "metadata": {},
   "outputs": [
    {
     "data": {
      "image/png": "[encoded data removed]",
      "text/plain": [
       "<Figure size 432x360 with 1 Axes>"
      ]
     },
     "metadata": {
      "needs_background": "light"
     },
     "output_type": "display_data"
    }
   ],
   "source": [
    "shap.dependence_plot('duration', shap_values[1], X_train, interaction_index=None)"
   ]
  },
  {
   "cell_type": "markdown",
   "metadata": {},
   "source": [
    "Customers most likely will subscribe to the campaign if the duration of phone call is longer than 5 minutes."
   ]
  },
  {
   "cell_type": "code",
   "execution_count": 23,
   "metadata": {},
   "outputs": [
    {
     "data": {
      "image/png": "[encoded data removed]",
      "text/plain": [
       "<Figure size 432x360 with 1 Axes>"
      ]
     },
     "metadata": {
      "needs_background": "light"
     },
     "output_type": "display_data"
    }
   ],
   "source": [
    "shap.dependence_plot('balance', shap_values[1], X_train, interaction_index=None)"
   ]
  },
  {
   "cell_type": "markdown",
   "metadata": {},
   "source": [
    "Customers who have balance in their account (actually use this bank for saving and/or investing purpose) tend to subsribe to term deposit campaign."
   ]
  }
 ],
 "metadata": {
  "interpreter": {
   "hash": "a46798ea1befe5d3d194ca2d5091003ad94859e0c5c828aac5bdfda75db007ac"
  },
  "kernelspec": {
   "display_name": "Python 3.8.8 64-bit ('base': conda)",
   "language": "python",
   "name": "python3"
  },
  "language_info": {
   "codemirror_mode": {
    "name": "ipython",
    "version": 3
   },
   "file_extension": ".py",
   "mimetype": "text/x-python",
   "name": "python",
   "nbconvert_exporter": "python",
   "pygments_lexer": "ipython3",
   "version": "3.6.13"
  },
  "orig_nbformat": 4
 },
 "nbformat": 4,
 "nbformat_minor": 2
}
