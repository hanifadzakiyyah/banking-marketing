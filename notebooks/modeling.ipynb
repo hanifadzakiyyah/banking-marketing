{
 "cells": [
  {
   "cell_type": "code",
   "execution_count": 1,
   "metadata": {},
   "outputs": [],
   "source": [
    "import warnings\n",
    "warnings.filterwarnings('ignore')\n",
    "\n",
    "import numpy as np\n",
    "import pandas as pd\n",
    "from scipy.stats import uniform\n",
    "import matplotlib.pyplot as plt\n",
    "import seaborn as sns\n",
    "from matplotlib import rcParams\n",
    "rcParams['figure.figsize'] = 12, 4\n",
    "rcParams['lines.linewidth'] = 3\n",
    "rcParams['xtick.labelsize'] = 'x-large'\n",
    "rcParams['ytick.labelsize'] = 'x-large'\n",
    "\n",
    "\n",
    "from sklearn.metrics import accuracy_score, precision_score, recall_score, f1_score, roc_auc_score\n",
    "from sklearn.model_selection import train_test_split\n",
    "from imblearn import under_sampling, over_sampling\n",
    "from sklearn.linear_model import LogisticRegression\n",
    "from sklearn.neighbors import KNeighborsClassifier\n",
    "from sklearn.ensemble import AdaBoostClassifier\n",
    "from sklearn.tree import DecisionTreeClassifier\n",
    "from sklearn import tree\n",
    "from sklearn.ensemble import RandomForestClassifier\n",
    "from sklearn.model_selection import RandomizedSearchCV, GridSearchCV\n",
    "from sklearn.base import BaseEstimator, RegressorMixin\n",
    "from xgboost import XGBClassifier\n",
    "import statsmodels.api as sm"
   ]
  },
  {
   "cell_type": "markdown",
   "metadata": {},
   "source": [
    "## Load Data"
   ]
  },
  {
   "cell_type": "code",
   "execution_count": 2,
   "metadata": {},
   "outputs": [
    {
     "data": {
      "text/html": [
       "<div>\n",
       "<style scoped>\n",
       "    .dataframe tbody tr th:only-of-type {\n",
       "        vertical-align: middle;\n",
       "    }\n",
       "\n",
       "    .dataframe tbody tr th {\n",
       "        vertical-align: top;\n",
       "    }\n",
       "\n",
       "    .dataframe thead th {\n",
       "        text-align: right;\n",
       "    }\n",
       "</style>\n",
       "<table border=\"1\" class=\"dataframe\">\n",
       "  <thead>\n",
       "    <tr style=\"text-align: right;\">\n",
       "      <th></th>\n",
       "      <th>age</th>\n",
       "      <th>default</th>\n",
       "      <th>balance</th>\n",
       "      <th>housing</th>\n",
       "      <th>loan</th>\n",
       "      <th>duration</th>\n",
       "      <th>campaign</th>\n",
       "      <th>previous</th>\n",
       "      <th>y</th>\n",
       "      <th>contact_group</th>\n",
       "      <th>...</th>\n",
       "      <th>marital_divorced</th>\n",
       "      <th>marital_married</th>\n",
       "      <th>marital_single</th>\n",
       "      <th>education_primary</th>\n",
       "      <th>education_secondary</th>\n",
       "      <th>education_tertiary</th>\n",
       "      <th>poutcome_failure</th>\n",
       "      <th>poutcome_other</th>\n",
       "      <th>poutcome_success</th>\n",
       "      <th>poutcome_unknown</th>\n",
       "    </tr>\n",
       "  </thead>\n",
       "  <tbody>\n",
       "    <tr>\n",
       "      <th>0</th>\n",
       "      <td>58</td>\n",
       "      <td>0</td>\n",
       "      <td>2143</td>\n",
       "      <td>1</td>\n",
       "      <td>0</td>\n",
       "      <td>4.350000</td>\n",
       "      <td>1</td>\n",
       "      <td>0</td>\n",
       "      <td>0</td>\n",
       "      <td>0</td>\n",
       "      <td>...</td>\n",
       "      <td>0</td>\n",
       "      <td>1</td>\n",
       "      <td>0</td>\n",
       "      <td>0</td>\n",
       "      <td>0</td>\n",
       "      <td>1</td>\n",
       "      <td>0</td>\n",
       "      <td>0</td>\n",
       "      <td>0</td>\n",
       "      <td>1</td>\n",
       "    </tr>\n",
       "    <tr>\n",
       "      <th>1</th>\n",
       "      <td>44</td>\n",
       "      <td>0</td>\n",
       "      <td>29</td>\n",
       "      <td>1</td>\n",
       "      <td>0</td>\n",
       "      <td>2.516667</td>\n",
       "      <td>1</td>\n",
       "      <td>0</td>\n",
       "      <td>0</td>\n",
       "      <td>0</td>\n",
       "      <td>...</td>\n",
       "      <td>0</td>\n",
       "      <td>0</td>\n",
       "      <td>1</td>\n",
       "      <td>0</td>\n",
       "      <td>1</td>\n",
       "      <td>0</td>\n",
       "      <td>0</td>\n",
       "      <td>0</td>\n",
       "      <td>0</td>\n",
       "      <td>1</td>\n",
       "    </tr>\n",
       "  </tbody>\n",
       "</table>\n",
       "<p>2 rows × 26 columns</p>\n",
       "</div>"
      ],
      "text/plain": [
       "   age  default  balance  housing  loan  duration  campaign  previous  y  \\\n",
       "0   58        0     2143        1     0  4.350000         1         0  0   \n",
       "1   44        0       29        1     0  2.516667         1         0  0   \n",
       "\n",
       "   contact_group  ...  marital_divorced  marital_married  marital_single  \\\n",
       "0              0  ...                 0                1               0   \n",
       "1              0  ...                 0                0               1   \n",
       "\n",
       "   education_primary  education_secondary  education_tertiary  \\\n",
       "0                  0                    0                   1   \n",
       "1                  0                    1                   0   \n",
       "\n",
       "   poutcome_failure  poutcome_other  poutcome_success  poutcome_unknown  \n",
       "0                 0               0                 0                 1  \n",
       "1                 0               0                 0                 1  \n",
       "\n",
       "[2 rows x 26 columns]"
      ]
     },
     "execution_count": 2,
     "metadata": {},
     "output_type": "execute_result"
    }
   ],
   "source": [
    "df = pd.read_csv('../data/data_modeling.csv',sep=',')\n",
    "df.head(2)"
   ]
  },
  {
   "cell_type": "code",
   "execution_count": 3,
   "metadata": {},
   "outputs": [
    {
     "name": "stdout",
     "output_type": "stream",
     "text": [
      "Shape of X is (45206, 25) and that of y is (45206,)\n"
     ]
    }
   ],
   "source": [
    "y = df['y'].values\n",
    "X = df.drop(labels = ['y'], axis = 1)\n",
    "print(\"Shape of X is {} and that of y is {}\".format(X.shape, y.shape))"
   ]
  },
  {
   "cell_type": "markdown",
   "metadata": {},
   "source": [
    "## Class Imbalance (SMOTE)"
   ]
  },
  {
   "cell_type": "code",
   "execution_count": 4,
   "metadata": {},
   "outputs": [
    {
     "name": "stdout",
     "output_type": "stream",
     "text": [
      "Shape of X is (59878, 25) and that of y is (59878,)\n"
     ]
    }
   ],
   "source": [
    "X_sm, y_sm = over_sampling.SMOTE(0.5).fit_resample(X, y)\n",
    "print(\"Shape of X is {} and that of y is {}\".format(X_sm.shape, y_sm.shape))"
   ]
  },
  {
   "cell_type": "markdown",
   "metadata": {},
   "source": [
    "## Split Train-Test"
   ]
  },
  {
   "cell_type": "code",
   "execution_count": 5,
   "metadata": {},
   "outputs": [],
   "source": [
    "X_train, X_test, y_train, y_test = train_test_split(X_sm, y_sm, test_size = 0.3, random_state = 42)"
   ]
  },
  {
   "cell_type": "markdown",
   "metadata": {},
   "source": [
    "Add constraint for Logistic Regression using statsmodel"
   ]
  },
  {
   "cell_type": "code",
   "execution_count": 6,
   "metadata": {},
   "outputs": [],
   "source": [
    "X_train_stat = sm.add_constant(X_train)\n",
    "X_test_stat = sm.add_constant(X_test)"
   ]
  },
  {
   "cell_type": "markdown",
   "metadata": {},
   "source": [
    "## Modeling"
   ]
  },
  {
   "cell_type": "code",
   "execution_count": 7,
   "metadata": {},
   "outputs": [],
   "source": [
    "def eval_classification(model, xtrain, ytrain, xtest, ytest):\n",
    "    ypred = model.predict(xtest)\n",
    "    ypred = (ypred > 0.5).astype(int)\n",
    "    y_train = model.predict(xtrain)\n",
    "    y_train = (y_train > 0.5).astype(int)\n",
    "    \n",
    "    print(\"Accuracy (Test Set): %.2f\" % accuracy_score(ytest, ypred))\n",
    "    print(\"Precision (Test Set): %.2f\" % precision_score(ytest, ypred))\n",
    "    print(\"Recall (Test Set): %.2f\" % recall_score(ytest, ypred))\n",
    "    print(\"AUC (Test Set) : %.2f\" % roc_auc_score(ytest, ypred))\n",
    "    print(\"F1-Score (Test Set): %.2f\" % f1_score(ytest, ypred))\n",
    "    print(\"F1-Score (Train Set): %.2f\" % f1_score(ytrain, y_train))\n",
    "    \n",
    "def show_feature_importance(model):\n",
    "    feat_importances = pd.Series(model.feature_importances_, index=X.columns)\n",
    "    ax = feat_importances.nlargest(25).plot(kind='barh', figsize=(10, 8))\n",
    "    ax.invert_yaxis()\n",
    "\n",
    "    plt.xlabel('score')\n",
    "    plt.ylabel('feature')\n",
    "    plt.title('feature importance score')\n",
    "\n",
    "def show_best_hyperparameter(model, hyperparameters):\n",
    "    for key, value in hyperparameters.items() :\n",
    "        print('Best '+key+':', model.get_params()[key])"
   ]
  },
  {
   "cell_type": "code",
   "execution_count": 15,
   "metadata": {},
   "outputs": [],
   "source": [
    "models = {\n",
    "    \"KNN\" : KNeighborsClassifier(),\n",
    "    \"AdaBoost\" :AdaBoostClassifier(random_state=42),\n",
    "    \"XGBoost\" : XGBClassifier(random_state=42),\n",
    "    \"Decision Tree\": DecisionTreeClassifier(random_state=42),\n",
    "    \"Random Forest\" : RandomForestClassifier(random_state=42),\n",
    "    \"Logistic Regression\" : sm.Logit(y_train,X_train_stat)\n",
    "    }"
   ]
  },
  {
   "cell_type": "code",
   "execution_count": 16,
   "metadata": {},
   "outputs": [
    {
     "name": "stdout",
     "output_type": "stream",
     "text": [
      "Model KNN score:\n",
      "Accuracy (Test Set): 0.85\n",
      "Precision (Test Set): 0.74\n",
      "Recall (Test Set): 0.85\n",
      "AUC (Test Set) : 0.85\n",
      "F1-Score (Test Set): 0.79\n",
      "F1-Score (Train Set): 0.86\n",
      "\n",
      "Model AdaBoost score:\n",
      "Accuracy (Test Set): 0.90\n",
      "Precision (Test Set): 0.88\n",
      "Recall (Test Set): 0.82\n",
      "AUC (Test Set) : 0.88\n",
      "F1-Score (Test Set): 0.85\n",
      "F1-Score (Train Set): 0.85\n",
      "\n",
      "Model XGBoost score:\n",
      "[22:46:37] WARNING: C:/Users/Administrator/workspace/xgboost-win64_release_1.5.1/src/learner.cc:1115: Starting in XGBoost 1.3.0, the default evaluation metric used with the objective 'binary:logistic' was changed from 'error' to 'logloss'. Explicitly set eval_metric if you'd like to restore the old behavior.\n",
      "Accuracy (Test Set): 0.91\n",
      "Precision (Test Set): 0.90\n",
      "Recall (Test Set): 0.84\n",
      "AUC (Test Set) : 0.89\n",
      "F1-Score (Test Set): 0.87\n",
      "F1-Score (Train Set): 0.92\n",
      "\n",
      "Model Decision Tree score:\n",
      "Accuracy (Test Set): 0.88\n",
      "Precision (Test Set): 0.81\n",
      "Recall (Test Set): 0.82\n",
      "AUC (Test Set) : 0.86\n",
      "F1-Score (Test Set): 0.82\n",
      "F1-Score (Train Set): 1.00\n",
      "\n",
      "Model Random Forest score:\n",
      "Accuracy (Test Set): 0.91\n",
      "Precision (Test Set): 0.89\n",
      "Recall (Test Set): 0.84\n",
      "AUC (Test Set) : 0.90\n",
      "F1-Score (Test Set): 0.87\n",
      "F1-Score (Train Set): 1.00\n",
      "\n",
      "Model Logistic Regression score:\n",
      "Optimization terminated successfully    (Exit mode 0)\n",
      "            Current function value: 0.20817145674606155\n",
      "            Iterations: 190\n",
      "            Function evaluations: 201\n",
      "            Gradient evaluations: 190\n",
      "Accuracy (Test Set): 0.91\n",
      "Precision (Test Set): 0.92\n",
      "Recall (Test Set): 0.79\n",
      "AUC (Test Set) : 0.88\n",
      "F1-Score (Test Set): 0.85\n",
      "F1-Score (Train Set): 0.86\n",
      "\n"
     ]
    }
   ],
   "source": [
    "for model in models:\n",
    "  print(\"Model \"+model + \" score:\")\n",
    "  classifier = models[model]\n",
    "  if model!=\"Logistic Regression\" :\n",
    "    classifier.fit(X_train, y_train)\n",
    "    eval_classification(classifier,X_train,y_train,X_test,y_test)\n",
    "  else:\n",
    "    result = classifier.fit_regularized(random_state = 42)\n",
    "    eval_classification(result, X_train_stat, y_train, X_test_stat, y_test)\n",
    "  print()"
   ]
  },
  {
   "cell_type": "code",
   "execution_count": null,
   "metadata": {},
   "outputs": [],
   "source": []
  }
 ],
 "metadata": {
  "interpreter": {
   "hash": "a46798ea1befe5d3d194ca2d5091003ad94859e0c5c828aac5bdfda75db007ac"
  },
  "kernelspec": {
   "display_name": "Python 3.8.8 64-bit ('base': conda)",
   "language": "python",
   "name": "python3"
  },
  "language_info": {
   "codemirror_mode": {
    "name": "ipython",
    "version": 3
   },
   "file_extension": ".py",
   "mimetype": "text/x-python",
   "name": "python",
   "nbconvert_exporter": "python",
   "pygments_lexer": "ipython3",
   "version": "3.8.8"
  },
  "orig_nbformat": 4
 },
 "nbformat": 4,
 "nbformat_minor": 2
}
